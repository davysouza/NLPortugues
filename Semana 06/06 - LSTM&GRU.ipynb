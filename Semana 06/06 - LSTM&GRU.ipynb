{
 "cells": [
  {
   "cell_type": "markdown",
   "metadata": {},
   "source": [
    "<img src=\"https://github.com/alan-barzilay/NLPortugues/blob/master/imagens/logo_nlportugues.png?raw=true\"  style=\"height:65%\" align=\"right\">\n",
    "\n",
    "\n",
    "# Lista 6 - LSTM&GRU \n",
    "**Nome:** Davy Alves de Souza\n",
    "\n",
    "**Numero Usp:** 11561247\n",
    "\n",
    "\n",
    "\n",
    "\n",
    "\n",
    "\n",
    "\n",
    "\n",
    "\n",
    "______________\n",
    "\n"
   ]
  },
  {
   "cell_type": "markdown",
   "metadata": {},
   "source": [
    "\n",
    "O objetivo desta lista é fazer com que vocês treinem um modelo de análise de sentimentos utilizando GRU's e LSTM's. Essa lista é semelhante a lista 03 onde aprendemos a usar embeddings e onde você ja recebeu a arquitetura do seu modelo quase pronta. A diferença é que desta vez você ira construir sozinho sua rede e utilizará as camadas que acabamos de aprender: LSTM e GRU.\n",
    " \n",
    "Essa tambêm será a primeira rede recorrente que montaremos, portanto a tokenização será ligeiramente diferente (por exemplo o padding não é mais necessário.)"
   ]
  },
  {
   "cell_type": "code",
   "execution_count": 2,
   "metadata": {},
   "outputs": [],
   "source": [
    "import tensorflow as tf\n",
    "from tensorflow import keras\n",
    "import numpy as np\n",
    "import pandas as pd\n",
    "import matplotlib.pyplot as plt"
   ]
  },
  {
   "cell_type": "code",
   "execution_count": 3,
   "metadata": {},
   "outputs": [
    {
     "data": {
      "text/plain": [
       "'2.2.0'"
      ]
     },
     "execution_count": 3,
     "metadata": {},
     "output_type": "execute_result"
    }
   ],
   "source": [
    "tf.__version__"
   ]
  },
  {
   "cell_type": "markdown",
   "metadata": {},
   "source": [
    "## Importando os dados como um dataframe\n",
    "\n",
    "Para esta lista nós utilizaremos um recorte de 10 mil linhas do dataset **B2W-Reviews01** que consiste em avaliações de mais de 130k compras online no site Americanas.com e [esta disponivel no github](https://github.com/b2wdigital/b2w-reviews01) sob a licensa CC BY-NC-SA 4.01."
   ]
  },
  {
   "cell_type": "code",
   "execution_count": 4,
   "metadata": {
    "scrolled": true
   },
   "outputs": [
    {
     "data": {
      "text/html": [
       "<div>\n",
       "<style scoped>\n",
       "    .dataframe tbody tr th:only-of-type {\n",
       "        vertical-align: middle;\n",
       "    }\n",
       "\n",
       "    .dataframe tbody tr th {\n",
       "        vertical-align: top;\n",
       "    }\n",
       "\n",
       "    .dataframe thead th {\n",
       "        text-align: right;\n",
       "    }\n",
       "</style>\n",
       "<table border=\"1\" class=\"dataframe\">\n",
       "  <thead>\n",
       "    <tr style=\"text-align: right;\">\n",
       "      <th></th>\n",
       "      <th>submission_date</th>\n",
       "      <th>reviewer_id</th>\n",
       "      <th>product_id</th>\n",
       "      <th>product_name</th>\n",
       "      <th>product_brand</th>\n",
       "      <th>site_category_lv1</th>\n",
       "      <th>site_category_lv2</th>\n",
       "      <th>review_title</th>\n",
       "      <th>overall_rating</th>\n",
       "      <th>recommend_to_a_friend</th>\n",
       "      <th>review_text</th>\n",
       "      <th>reviewer_birth_year</th>\n",
       "      <th>reviewer_gender</th>\n",
       "      <th>reviewer_state</th>\n",
       "      <th>Unnamed: 14</th>\n",
       "      <th>Unnamed: 15</th>\n",
       "      <th>Unnamed: 16</th>\n",
       "      <th>Unnamed: 17</th>\n",
       "      <th>Unnamed: 18</th>\n",
       "    </tr>\n",
       "  </thead>\n",
       "  <tbody>\n",
       "    <tr>\n",
       "      <th>0</th>\n",
       "      <td>2018-01-01 00:11:28</td>\n",
       "      <td>d0fb1ca69422530334178f5c8624aa7a99da47907c44de...</td>\n",
       "      <td>132532965</td>\n",
       "      <td>Notebook Asus Vivobook Max X541NA-GO472T Intel...</td>\n",
       "      <td>NaN</td>\n",
       "      <td>Informática</td>\n",
       "      <td>Notebook</td>\n",
       "      <td>Bom</td>\n",
       "      <td>4</td>\n",
       "      <td>Yes</td>\n",
       "      <td>Estou contente com a compra entrega rápida o ú...</td>\n",
       "      <td>1958</td>\n",
       "      <td>F</td>\n",
       "      <td>RJ</td>\n",
       "      <td>NaN</td>\n",
       "      <td>NaN</td>\n",
       "      <td>NaN</td>\n",
       "      <td>NaN</td>\n",
       "      <td>NaN</td>\n",
       "    </tr>\n",
       "    <tr>\n",
       "      <th>1</th>\n",
       "      <td>2018-01-01 00:13:48</td>\n",
       "      <td>014d6dc5a10aed1ff1e6f349fb2b059a2d3de511c7538a...</td>\n",
       "      <td>22562178</td>\n",
       "      <td>Copo Acrílico Com Canudo 500ml Rocie</td>\n",
       "      <td>NaN</td>\n",
       "      <td>Utilidades Domésticas</td>\n",
       "      <td>Copos, Taças e Canecas</td>\n",
       "      <td>Preço imbatível, ótima qualidade</td>\n",
       "      <td>4</td>\n",
       "      <td>Yes</td>\n",
       "      <td>Por apenas R$1994.20,eu consegui comprar esse ...</td>\n",
       "      <td>1996</td>\n",
       "      <td>M</td>\n",
       "      <td>SC</td>\n",
       "      <td>NaN</td>\n",
       "      <td>NaN</td>\n",
       "      <td>NaN</td>\n",
       "      <td>NaN</td>\n",
       "      <td>NaN</td>\n",
       "    </tr>\n",
       "    <tr>\n",
       "      <th>2</th>\n",
       "      <td>2018-01-01 00:26:02</td>\n",
       "      <td>44f2c8edd93471926fff601274b8b2b5c4824e386ae4f2...</td>\n",
       "      <td>113022329</td>\n",
       "      <td>Panela de Pressão Elétrica Philips Walita Dail...</td>\n",
       "      <td>philips walita</td>\n",
       "      <td>Eletroportáteis</td>\n",
       "      <td>Panela Elétrica</td>\n",
       "      <td>ATENDE TODAS AS EXPECTATIVA.</td>\n",
       "      <td>4</td>\n",
       "      <td>Yes</td>\n",
       "      <td>SUPERA EM AGILIDADE E PRATICIDADE OUTRAS PANEL...</td>\n",
       "      <td>1984</td>\n",
       "      <td>M</td>\n",
       "      <td>SP</td>\n",
       "      <td>NaN</td>\n",
       "      <td>NaN</td>\n",
       "      <td>NaN</td>\n",
       "      <td>NaN</td>\n",
       "      <td>NaN</td>\n",
       "    </tr>\n",
       "    <tr>\n",
       "      <th>3</th>\n",
       "      <td>2018-01-01 00:35:54</td>\n",
       "      <td>ce741665c1764ab2d77539e18d0e4f66dde6213c9f0863...</td>\n",
       "      <td>113851581</td>\n",
       "      <td>Betoneira Columbus - Roma Brinquedos</td>\n",
       "      <td>roma jensen</td>\n",
       "      <td>Brinquedos</td>\n",
       "      <td>Veículos de Brinquedo</td>\n",
       "      <td>presente mais que desejado</td>\n",
       "      <td>4</td>\n",
       "      <td>Yes</td>\n",
       "      <td>MEU FILHO AMOU! PARECE DE VERDADE COM TANTOS D...</td>\n",
       "      <td>1985</td>\n",
       "      <td>F</td>\n",
       "      <td>SP</td>\n",
       "      <td>NaN</td>\n",
       "      <td>NaN</td>\n",
       "      <td>NaN</td>\n",
       "      <td>NaN</td>\n",
       "      <td>NaN</td>\n",
       "    </tr>\n",
       "    <tr>\n",
       "      <th>4</th>\n",
       "      <td>2018-01-01 01:00:28</td>\n",
       "      <td>7d7b6b18dda804a897359276cef0ca252f9932bf4b5c8e...</td>\n",
       "      <td>131788803</td>\n",
       "      <td>Smart TV LED 43\" LG 43UJ6525 Ultra HD 4K com C...</td>\n",
       "      <td>lg</td>\n",
       "      <td>TV e Home Theater</td>\n",
       "      <td>TV</td>\n",
       "      <td>Sem duvidas, excelente</td>\n",
       "      <td>5</td>\n",
       "      <td>Yes</td>\n",
       "      <td>A entrega foi no prazo, as americanas estão de...</td>\n",
       "      <td>1994</td>\n",
       "      <td>M</td>\n",
       "      <td>MG</td>\n",
       "      <td>NaN</td>\n",
       "      <td>NaN</td>\n",
       "      <td>NaN</td>\n",
       "      <td>NaN</td>\n",
       "      <td>NaN</td>\n",
       "    </tr>\n",
       "  </tbody>\n",
       "</table>\n",
       "</div>"
      ],
      "text/plain": [
       "       submission_date                                        reviewer_id  \\\n",
       "0  2018-01-01 00:11:28  d0fb1ca69422530334178f5c8624aa7a99da47907c44de...   \n",
       "1  2018-01-01 00:13:48  014d6dc5a10aed1ff1e6f349fb2b059a2d3de511c7538a...   \n",
       "2  2018-01-01 00:26:02  44f2c8edd93471926fff601274b8b2b5c4824e386ae4f2...   \n",
       "3  2018-01-01 00:35:54  ce741665c1764ab2d77539e18d0e4f66dde6213c9f0863...   \n",
       "4  2018-01-01 01:00:28  7d7b6b18dda804a897359276cef0ca252f9932bf4b5c8e...   \n",
       "\n",
       "   product_id                                       product_name  \\\n",
       "0   132532965  Notebook Asus Vivobook Max X541NA-GO472T Intel...   \n",
       "1    22562178               Copo Acrílico Com Canudo 500ml Rocie   \n",
       "2   113022329  Panela de Pressão Elétrica Philips Walita Dail...   \n",
       "3   113851581               Betoneira Columbus - Roma Brinquedos   \n",
       "4   131788803  Smart TV LED 43\" LG 43UJ6525 Ultra HD 4K com C...   \n",
       "\n",
       "    product_brand      site_category_lv1       site_category_lv2  \\\n",
       "0             NaN            Informática                Notebook   \n",
       "1             NaN  Utilidades Domésticas  Copos, Taças e Canecas   \n",
       "2  philips walita        Eletroportáteis         Panela Elétrica   \n",
       "3     roma jensen             Brinquedos   Veículos de Brinquedo   \n",
       "4              lg      TV e Home Theater                      TV   \n",
       "\n",
       "                       review_title  overall_rating recommend_to_a_friend  \\\n",
       "0                               Bom               4                   Yes   \n",
       "1  Preço imbatível, ótima qualidade               4                   Yes   \n",
       "2      ATENDE TODAS AS EXPECTATIVA.               4                   Yes   \n",
       "3        presente mais que desejado               4                   Yes   \n",
       "4            Sem duvidas, excelente               5                   Yes   \n",
       "\n",
       "                                         review_text reviewer_birth_year  \\\n",
       "0  Estou contente com a compra entrega rápida o ú...                1958   \n",
       "1  Por apenas R$1994.20,eu consegui comprar esse ...                1996   \n",
       "2  SUPERA EM AGILIDADE E PRATICIDADE OUTRAS PANEL...                1984   \n",
       "3  MEU FILHO AMOU! PARECE DE VERDADE COM TANTOS D...                1985   \n",
       "4  A entrega foi no prazo, as americanas estão de...                1994   \n",
       "\n",
       "  reviewer_gender reviewer_state Unnamed: 14 Unnamed: 15 Unnamed: 16  \\\n",
       "0               F             RJ         NaN         NaN         NaN   \n",
       "1               M             SC         NaN         NaN         NaN   \n",
       "2               M             SP         NaN         NaN         NaN   \n",
       "3               F             SP         NaN         NaN         NaN   \n",
       "4               M             MG         NaN         NaN         NaN   \n",
       "\n",
       "  Unnamed: 17 Unnamed: 18  \n",
       "0         NaN         NaN  \n",
       "1         NaN         NaN  \n",
       "2         NaN         NaN  \n",
       "3         NaN         NaN  \n",
       "4         NaN         NaN  "
      ]
     },
     "execution_count": 4,
     "metadata": {},
     "output_type": "execute_result"
    }
   ],
   "source": [
    "b2wCorpus = pd.read_csv(\"../data/b2w-10k.csv\")\n",
    "b2wCorpus.head()"
   ]
  },
  {
   "cell_type": "code",
   "execution_count": 5,
   "metadata": {},
   "outputs": [
    {
     "data": {
      "text/plain": [
       "0       Estou contente com a compra entrega rápida o ú...\n",
       "1       Por apenas R$1994.20,eu consegui comprar esse ...\n",
       "2       SUPERA EM AGILIDADE E PRATICIDADE OUTRAS PANEL...\n",
       "3       MEU FILHO AMOU! PARECE DE VERDADE COM TANTOS D...\n",
       "4       A entrega foi no prazo, as americanas estão de...\n",
       "                              ...                        \n",
       "9994    Celular muito rápido, com processador e armaze...\n",
       "9995    achei o produto muito frágil, o material veio ...\n",
       "9996    Uma porcaria pois ñ recebi ñ recomendo pra nin...\n",
       "9997    Maquina excelente,super pratica. recomendo.ent...\n",
       "9998    Agradeço pelo compromisso, obrigado. ,...........\n",
       "Name: review_text, Length: 9999, dtype: object"
      ]
     },
     "execution_count": 5,
     "metadata": {},
     "output_type": "execute_result"
    }
   ],
   "source": [
    "b2wCorpus[\"review_text\"]"
   ]
  },
  {
   "cell_type": "markdown",
   "metadata": {},
   "source": [
    "\n",
    "## Pré-processamento \n",
    "# <font color='blue'>Questão 1 </font>\n",
    "Copie suas etapas de préprocessamento da lista 03, ou seja, selecione apenas as colunas relevantes (\"review_text\" e \"recommend_to_a_friend\"), converta a coluna \"review_text\" de uma coluna de `str` para uma coluna de `int` e separe os dados em teste e treino.\n"
   ]
  },
  {
   "cell_type": "code",
   "execution_count": 6,
   "metadata": {},
   "outputs": [],
   "source": [
    "from sklearn.model_selection import train_test_split\n",
    "\n",
    "# Selecionando colunas relevantes\n",
    "processed_data = b2wCorpus[['review_text', 'recommend_to_a_friend']]\n",
    "\n",
    "# Convertendo str to int [recommend_to_a_friend]\n",
    "processed_data = processed_data.replace(['Yes', 'No'], [1, 0])\n",
    "\n",
    "# removendo reviews maiores que 200 caracteres\n",
    "processed_data = processed_data[processed_data['review_text'].map(len) / 2 < 200]\n",
    "\n",
    "# separando dados em teste e treino\n",
    "X = processed_data[['review_text']]\n",
    "y = processed_data[['recommend_to_a_friend']]\n",
    "x_train, x_test, y_train, y_test = train_test_split(X, y, test_size=0.2)\n",
    "\n",
    "x_train = np.asarray(x_train)\n",
    "x_test  = np.asarray(x_test)\n",
    "y_train = np.asarray(y_train)\n",
    "y_test  = np.asarray(y_test)"
   ]
  },
  {
   "cell_type": "code",
   "execution_count": 7,
   "metadata": {},
   "outputs": [
    {
     "name": "stdout",
     "output_type": "stream",
     "text": [
      "classe 0: 1876 amostras de treinamento\n",
      "classe 1: 5831 amostras de treinamento\n",
      "classe 0: 1876 amostras de treinamento rebalanceadas\n",
      "classe 1: 1876 amostras de treinamento rebalanceadas\n"
     ]
    }
   ],
   "source": [
    "# balanceando as classes\n",
    "from imblearn.under_sampling import RandomUnderSampler\n",
    "\n",
    "# Class count\n",
    "count_class_0 = len(y_train[y_train[:,0] == 0])\n",
    "count_class_1 = len(y_train[y_train[:,0] == 1])\n",
    "print(\"classe 0:\", count_class_0, \"amostras de treinamento\")\n",
    "print(\"classe 1:\", count_class_1, \"amostras de treinamento\")\n",
    "\n",
    "# rebalanceando\n",
    "rus = RandomUnderSampler(random_state=0)\n",
    "x_train_resampled, y_train_resampled = rus.fit_resample(x_train, y_train)\n",
    "y_train_resampled = np.reshape(y_train_resampled, (len(y_train_resampled),1))\n",
    "\n",
    "# Class count\n",
    "count_0 = len(y_train_resampled[y_train_resampled[:] == 0])\n",
    "count_1 = len(y_train_resampled[y_train_resampled[:] == 1])\n",
    "print(\"classe 0:\", count_0, \"amostras de treinamento rebalanceadas\")\n",
    "print(\"classe 1:\", count_1, \"amostras de treinamento rebalanceadas\")"
   ]
  },
  {
   "cell_type": "markdown",
   "metadata": {},
   "source": [
    "## Tokenizando\n",
    "\n",
    "\n"
   ]
  },
  {
   "cell_type": "markdown",
   "metadata": {},
   "source": [
    "# <font color='blue'>Questão 2 </font>\n",
    "Utilizando a camada [`TextVectorization`](https://www.tensorflow.org/api_docs/python/tf/keras/layers/experimental/preprocessing/TextVectorization) tokenize os inputs.\n",
    "Declare a camada e então chame a função `adapt()` no seu conjunto de treino para adequar o seu vocabulário aos reviews. \n",
    "\n",
    "Note que o uso de padding não é mais necessario."
   ]
  },
  {
   "cell_type": "code",
   "execution_count": 8,
   "metadata": {},
   "outputs": [
    {
     "name": "stderr",
     "output_type": "stream",
     "text": [
      "C:\\Users\\davys\\AppData\\Roaming\\Python\\Python37\\site-packages\\tensorflow\\python\\keras\\layers\\preprocessing\\text_vectorization.py:338: VisibleDeprecationWarning: Creating an ndarray from ragged nested sequences (which is a list-or-tuple of lists-or-tuples-or ndarrays with different lengths or shapes) is deprecated. If you meant to do this, you must specify 'dtype=object' when creating the ndarray\n",
      "  return np.array(preprocessed_data.to_list())\n"
     ]
    }
   ],
   "source": [
    "# Criando camada de tokenizacao\n",
    "from tensorflow.keras import layers\n",
    "\n",
    "max_tokens = 8000\n",
    "# camada de tokenizacao\n",
    "vectorize_layer = layers.experimental.preprocessing.TextVectorization(\n",
    "#     max_tokens = max_tokens,\n",
    "    standardize = \"lower_and_strip_punctuation\",\n",
    "    split = \"whitespace\",\n",
    "#     ngrams = (1,2), \n",
    "    output_mode = \"int\",\n",
    "#     output_sequence_length = None, \n",
    "#     pad_to_max_tokens = False,\n",
    ")\n",
    "\n",
    "vectorize_layer.adapt(x_train)"
   ]
  },
  {
   "cell_type": "markdown",
   "metadata": {},
   "source": [
    "## LSTM&GRU\n",
    "\n",
    "Agora vamos juntar a camada do tokenizador a nossa camada [Embedding](https://www.tensorflow.org/api_docs/python/tf/keras/layers/Embedding) e definir o resto de nosso modelo.\n",
    "\n",
    "#  <font color='blue'>Questão 3 </font>\n",
    "\n",
    "a) Defina, compile, treine e avalie seu modelo, utilize camadas  [LSTM](https://keras.io/api/layers/recurrent_layers/lstm/).\n",
    "Atenção a dimensão do input da camada de embedding, lembre se que < OOV > e < PAD > possuem seus próprios tokens.\n",
    " \n",
    " \n",
    " \n",
    "b) Como foi a performance desta rede em comparação a da lista 3?\n",
    "\n",
    "\n"
   ]
  },
  {
   "attachments": {
    "image.png": {
     "image/png": "[encoded data removed]"
    }
   },
   "cell_type": "markdown",
   "metadata": {},
   "source": [
    "***Resultados Notebook 3:***\n",
    "![image.png](attachment:image.png)\n",
    "\n",
    "\n",
    "\n",
    "**<font color='red'> Sua resposta aqui </font>**\n",
    "\n",
    "Podemos notar que a acurácia foi muito próxima entre a rede da lista 3 e a rede LSTM, talvez pela pouca quantidade de dados não pudemos notar um ganho da LSTM em relação a rede anterior"
   ]
  },
  {
   "cell_type": "code",
   "execution_count": 8,
   "metadata": {},
   "outputs": [
    {
     "name": "stdout",
     "output_type": "stream",
     "text": [
      "Epoch 1/25\n",
      "241/241 [==============================] - 11s 44ms/step - loss: 0.1565 - accuracy: 0.7716\n",
      "Epoch 2/25\n",
      "241/241 [==============================] - 11s 44ms/step - loss: 0.1543 - accuracy: 0.7667\n",
      "Epoch 3/25\n",
      "241/241 [==============================] - 11s 44ms/step - loss: 0.1222 - accuracy: 0.8486\n",
      "Epoch 4/25\n",
      "241/241 [==============================] - 11s 44ms/step - loss: 0.0977 - accuracy: 0.8808\n",
      "Epoch 5/25\n",
      "241/241 [==============================] - 10s 43ms/step - loss: 0.0750 - accuracy: 0.9112\n",
      "Epoch 6/25\n",
      "241/241 [==============================] - 11s 45ms/step - loss: 0.0625 - accuracy: 0.9244\n",
      "Epoch 7/25\n",
      "241/241 [==============================] - 11s 44ms/step - loss: 0.0500 - accuracy: 0.9414\n",
      "Epoch 8/25\n",
      "241/241 [==============================] - 11s 44ms/step - loss: 0.0422 - accuracy: 0.9500\n",
      "Epoch 9/25\n",
      "241/241 [==============================] - 11s 44ms/step - loss: 0.0354 - accuracy: 0.9578\n",
      "Epoch 10/25\n",
      "241/241 [==============================] - 11s 44ms/step - loss: 0.0299 - accuracy: 0.9652\n",
      "Epoch 11/25\n",
      "241/241 [==============================] - 10s 43ms/step - loss: 0.0243 - accuracy: 0.9721\n",
      "Epoch 12/25\n",
      "241/241 [==============================] - 11s 44ms/step - loss: 0.0198 - accuracy: 0.9770\n",
      "Epoch 13/25\n",
      "241/241 [==============================] - 11s 44ms/step - loss: 0.0181 - accuracy: 0.9794\n",
      "Epoch 14/25\n",
      "241/241 [==============================] - 10s 44ms/step - loss: 0.0153 - accuracy: 0.9829\n",
      "Epoch 15/25\n",
      "241/241 [==============================] - 11s 44ms/step - loss: 0.0131 - accuracy: 0.98551s - loss:\n",
      "Epoch 16/25\n",
      "241/241 [==============================] - 11s 44ms/step - loss: 0.0100 - accuracy: 0.9894\n",
      "Epoch 17/25\n",
      "241/241 [==============================] - 10s 43ms/step - loss: 0.0104 - accuracy: 0.9886\n",
      "Epoch 18/25\n",
      "241/241 [==============================] - 11s 44ms/step - loss: 0.0097 - accuracy: 0.9896\n",
      "Epoch 19/25\n",
      "241/241 [==============================] - 11s 44ms/step - loss: 0.0081 - accuracy: 0.9913\n",
      "Epoch 20/25\n",
      "241/241 [==============================] - 10s 43ms/step - loss: 0.0077 - accuracy: 0.9914\n",
      "Epoch 21/25\n",
      "241/241 [==============================] - 11s 44ms/step - loss: 0.0071 - accuracy: 0.9926\n",
      "Epoch 22/25\n",
      "241/241 [==============================] - 11s 44ms/step - loss: 0.0063 - accuracy: 0.9933\n",
      "Epoch 23/25\n",
      "241/241 [==============================] - 11s 46ms/step - loss: 0.0063 - accuracy: 0.9933\n",
      "Epoch 24/25\n",
      "241/241 [==============================] - 11s 44ms/step - loss: 0.0057 - accuracy: 0.9938\n",
      "Epoch 25/25\n",
      "241/241 [==============================] - 11s 44ms/step - loss: 0.0053 - accuracy: 0.9942\n"
     ]
    },
    {
     "data": {
      "text/plain": [
       "<tensorflow.python.keras.callbacks.History at 0x23c1cf68948>"
      ]
     },
     "execution_count": 8,
     "metadata": {},
     "output_type": "execute_result"
    }
   ],
   "source": [
    "embedding_dim = 600\n",
    "\n",
    "# Definindo modelo\n",
    "lstm_model = tf.keras.Sequential([\n",
    "    # Input, vectorize and embedding layers\n",
    "    tf.keras.Input(shape=(1,), dtype=tf.string),\n",
    "    vectorize_layer,\n",
    "    tf.keras.layers.Embedding(len(vectorize_layer.get_vocabulary()) + 2, embedding_dim),\n",
    "    \n",
    "    # LSTM layers\n",
    "    tf.keras.layers.Dropout(.3),\n",
    "    tf.keras.layers.LSTM(256),\n",
    "    tf.keras.layers.Dropout(.3),\n",
    "    tf.keras.layers.Dense(1, activation='sigmoid')\n",
    "])\n",
    "\n",
    "# Compilando\n",
    "lstm_model.compile(optimizer = \"rmsprop\", loss = \"mean_squared_error\", metrics = ['accuracy'])\n",
    "lstm_model.fit(x_train, y_train, epochs = 25)"
   ]
  },
  {
   "cell_type": "code",
   "execution_count": 9,
   "metadata": {},
   "outputs": [
    {
     "name": "stdout",
     "output_type": "stream",
     "text": [
      "61/61 [==============================] - 0s 6ms/step - loss: 0.1007 - accuracy: 0.8879\n",
      "Training loss:  0.1\n",
      "Training accuracy:  88.79 %\n",
      "\n",
      "Confusion matrix(tn,fp,fn,tp):  [ 351  118   98 1360] \n",
      "\n",
      "                  precision    recall  f1-score   support\n",
      "\n",
      "nao recomendaria       0.78      0.75      0.76       469\n",
      "    recomendaria       0.92      0.93      0.93      1458\n",
      "\n",
      "        accuracy                           0.89      1927\n",
      "       macro avg       0.85      0.84      0.85      1927\n",
      "    weighted avg       0.89      0.89      0.89      1927\n",
      "\n"
     ]
    }
   ],
   "source": [
    "# Avaliando modelo LSTM\n",
    "from sklearn.metrics import classification_report, confusion_matrix\n",
    "\n",
    "loss, acc = lstm_model.evaluate(x = x_test, y = y_test)\n",
    "print(\"Training loss: \", round(loss, 2))\n",
    "print(\"Training accuracy: \", round(acc * 100, 2), \"%\\n\")\n",
    "\n",
    "y_pred = lstm_model.predict(x_test).round()\n",
    "print(\"Confusion matrix(tn,fp,fn,tp): \", confusion_matrix(y_test, y_pred).ravel(), \"\\n\")\n",
    "print(classification_report(y_test, y_pred, target_names=['nao recomendaria', 'recomendaria']))"
   ]
  },
  {
   "cell_type": "markdown",
   "metadata": {},
   "source": [
    "#  <font color='blue'>Questão 4 </font>\n",
    "\n",
    "a) Defina, compile, treine e avalie seu modelo, utilize camadas [GRU](https://keras.io/api/layers/recurrent_layers/gru/).\n",
    "Atenção a dimensão do input da camada de embedding, lembre se que < OOV > e < PAD > possuem seus próprios tokens.\n",
    " \n",
    " \n",
    " \n",
    "b) Como foi a performance desta rede em comparação a da lista 3?\n"
   ]
  },
  {
   "cell_type": "markdown",
   "metadata": {},
   "source": [
    "**<font color='red'> Sua resposta aqui </font>**\n",
    "\n",
    "Como esperado, a rede GRU perdeu um pouco em qualidade para ganhar em velocidade. Seus resultados também foram muito próximos aos resultados obtidos pelas redes anteriores, alcançando 86% de acurácia. Todavia, não pudemos notar nenhum ganho significativo de velocidade"
   ]
  },
  {
   "cell_type": "code",
   "execution_count": 10,
   "metadata": {},
   "outputs": [
    {
     "name": "stdout",
     "output_type": "stream",
     "text": [
      "Epoch 1/25\n",
      "241/241 [==============================] - 10s 44ms/step - loss: 0.1828 - accuracy: 0.7578\n",
      "Epoch 2/25\n",
      "241/241 [==============================] - 10s 43ms/step - loss: 0.1113 - accuracy: 0.8531\n",
      "Epoch 3/25\n",
      "241/241 [==============================] - 11s 44ms/step - loss: 0.0635 - accuracy: 0.9190\n",
      "Epoch 4/25\n",
      "241/241 [==============================] - 10s 43ms/step - loss: 0.0491 - accuracy: 0.9395\n",
      "Epoch 5/25\n",
      "241/241 [==============================] - 11s 44ms/step - loss: 0.0383 - accuracy: 0.9537\n",
      "Epoch 6/25\n",
      "241/241 [==============================] - 10s 44ms/step - loss: 0.0308 - accuracy: 0.9630\n",
      "Epoch 7/25\n",
      "241/241 [==============================] - 10s 43ms/step - loss: 0.0235 - accuracy: 0.9725\n",
      "Epoch 8/25\n",
      "241/241 [==============================] - 10s 44ms/step - loss: 0.0192 - accuracy: 0.9779\n",
      "Epoch 9/25\n",
      "241/241 [==============================] - 11s 44ms/step - loss: 0.0159 - accuracy: 0.9808\n",
      "Epoch 10/25\n",
      "241/241 [==============================] - 11s 44ms/step - loss: 0.0131 - accuracy: 0.9849\n",
      "Epoch 11/25\n",
      "241/241 [==============================] - 11s 44ms/step - loss: 0.0099 - accuracy: 0.9888\n",
      "Epoch 12/25\n",
      "241/241 [==============================] - 11s 44ms/step - loss: 0.0088 - accuracy: 0.9901\n",
      "Epoch 13/25\n",
      "241/241 [==============================] - 10s 43ms/step - loss: 0.0069 - accuracy: 0.9922\n",
      "Epoch 14/25\n",
      "241/241 [==============================] - 10s 44ms/step - loss: 0.0064 - accuracy: 0.9927\n",
      "Epoch 15/25\n",
      "241/241 [==============================] - 10s 43ms/step - loss: 0.0059 - accuracy: 0.9936\n",
      "Epoch 16/25\n",
      "241/241 [==============================] - 10s 43ms/step - loss: 0.0050 - accuracy: 0.9947\n",
      "Epoch 17/25\n",
      "241/241 [==============================] - 10s 43ms/step - loss: 0.0046 - accuracy: 0.9949\n",
      "Epoch 18/25\n",
      "241/241 [==============================] - 11s 44ms/step - loss: 0.0043 - accuracy: 0.9952\n",
      "Epoch 19/25\n",
      "241/241 [==============================] - 10s 43ms/step - loss: 0.0043 - accuracy: 0.9949\n",
      "Epoch 20/25\n",
      "241/241 [==============================] - 10s 44ms/step - loss: 0.0037 - accuracy: 0.9958\n",
      "Epoch 21/25\n",
      "241/241 [==============================] - 10s 43ms/step - loss: 0.0033 - accuracy: 0.9966\n",
      "Epoch 22/25\n",
      "241/241 [==============================] - 10s 43ms/step - loss: 0.0030 - accuracy: 0.9966\n",
      "Epoch 23/25\n",
      "241/241 [==============================] - 11s 44ms/step - loss: 0.0033 - accuracy: 0.9964\n",
      "Epoch 24/25\n",
      "241/241 [==============================] - 9s 39ms/step - loss: 0.0032 - accuracy: 0.9965\n",
      "Epoch 25/25\n",
      "241/241 [==============================] - 9s 39ms/step - loss: 0.0033 - accuracy: 0.9962\n"
     ]
    },
    {
     "data": {
      "text/plain": [
       "<tensorflow.python.keras.callbacks.History at 0x23c06449c88>"
      ]
     },
     "execution_count": 10,
     "metadata": {},
     "output_type": "execute_result"
    }
   ],
   "source": [
    "embedding_dim = 600\n",
    "\n",
    "# Definindo modelo\n",
    "gru_model = tf.keras.Sequential([\n",
    "    # Input, vectorize and embedding layers\n",
    "    tf.keras.Input(shape=(1,), dtype=tf.string),\n",
    "    vectorize_layer,\n",
    "    tf.keras.layers.Embedding(len(vectorize_layer.get_vocabulary()) + 2, embedding_dim),\n",
    "    \n",
    "    # LSTM layers\n",
    "    tf.keras.layers.Dropout(.3),\n",
    "    tf.keras.layers.GRU(256),\n",
    "    tf.keras.layers.Dropout(.3),\n",
    "    tf.keras.layers.Dense(1, activation='sigmoid')\n",
    "])\n",
    "\n",
    "# Compilando\n",
    "gru_model.compile(optimizer = \"rmsprop\", loss = \"mean_squared_error\", metrics = ['accuracy'])\n",
    "gru_model.fit(x_train, y_train, epochs = 25)"
   ]
  },
  {
   "cell_type": "code",
   "execution_count": 11,
   "metadata": {},
   "outputs": [
    {
     "name": "stdout",
     "output_type": "stream",
     "text": [
      "61/61 [==============================] - 0s 6ms/step - loss: 0.1178 - accuracy: 0.8677\n",
      "Training loss:  0.12\n",
      "Training accuracy:  86.77 %\n",
      "\n",
      "Confusion matrix(tn,fp,fn,tp):  [ 372   97  158 1300] \n",
      "\n",
      "                  precision    recall  f1-score   support\n",
      "\n",
      "nao recomendaria       0.70      0.79      0.74       469\n",
      "    recomendaria       0.93      0.89      0.91      1458\n",
      "\n",
      "        accuracy                           0.87      1927\n",
      "       macro avg       0.82      0.84      0.83      1927\n",
      "    weighted avg       0.87      0.87      0.87      1927\n",
      "\n"
     ]
    }
   ],
   "source": [
    "# Avaliando modelo GRU\n",
    "from sklearn.metrics import classification_report, confusion_matrix\n",
    "\n",
    "loss, acc = gru_model.evaluate(x = x_test, y = y_test)\n",
    "print(\"Training loss: \", round(loss, 2))\n",
    "print(\"Training accuracy: \", round(acc * 100, 2), \"%\\n\")\n",
    "\n",
    "y_pred = gru_model.predict(x_test).round()\n",
    "print(\"Confusion matrix(tn,fp,fn,tp): \", confusion_matrix(y_test, y_pred).ravel(), \"\\n\")\n",
    "print(classification_report(y_test, y_pred, target_names=['nao recomendaria', 'recomendaria']))"
   ]
  },
  {
   "cell_type": "markdown",
   "metadata": {},
   "source": [
    "## Redes Bi-direcionais\n",
    "#  <font color='blue'>Questão 5 </font>\n",
    "\n",
    "a) Defina, compile, treine e avalie um novo modelo que utilize contexto em ambas as direções usando a camada [`Bidirectional()`](https://keras.io/api/layers/recurrent_layers/bidirectional/), seja com camadas GRU ou LSTM.\n",
    "\n",
    "\n",
    "b) Como foi sua performance em relação as questões anteriores com contexto unidirecional?"
   ]
  },
  {
   "cell_type": "markdown",
   "metadata": {},
   "source": [
    "**<font color='red'> Sua resposta aqui </font>**\n",
    "\n",
    "Por fim as redes bidirecionais também obtiveram 88% de acurácia, assim como a a rede especificada na lista 3."
   ]
  },
  {
   "cell_type": "code",
   "execution_count": 12,
   "metadata": {},
   "outputs": [
    {
     "name": "stdout",
     "output_type": "stream",
     "text": [
      "Epoch 1/25\n",
      "241/241 [==============================] - ETA: 0s - loss: 0.0975 - accuracy: 0.86 - 11s 44ms/step - loss: 0.0974 - accuracy: 0.8692\n",
      "Epoch 2/25\n",
      "241/241 [==============================] - 11s 45ms/step - loss: 0.0647 - accuracy: 0.9176\n",
      "Epoch 3/25\n",
      "241/241 [==============================] - 11s 45ms/step - loss: 0.0488 - accuracy: 0.9378\n",
      "Epoch 4/25\n",
      "241/241 [==============================] - 11s 44ms/step - loss: 0.0404 - accuracy: 0.9507\n",
      "Epoch 5/25\n",
      "241/241 [==============================] - 11s 44ms/step - loss: 0.0313 - accuracy: 0.9629\n",
      "Epoch 6/25\n",
      "241/241 [==============================] - 11s 44ms/step - loss: 0.0265 - accuracy: 0.9681\n",
      "Epoch 7/25\n",
      "241/241 [==============================] - 11s 44ms/step - loss: 0.0225 - accuracy: 0.9735\n",
      "Epoch 8/25\n",
      "241/241 [==============================] - 11s 44ms/step - loss: 0.0173 - accuracy: 0.9803\n",
      "Epoch 9/25\n",
      "241/241 [==============================] - 11s 44ms/step - loss: 0.0132 - accuracy: 0.9848\n",
      "Epoch 10/25\n",
      "241/241 [==============================] - 11s 44ms/step - loss: 0.0124 - accuracy: 0.9859\n",
      "Epoch 11/25\n",
      "241/241 [==============================] - 11s 44ms/step - loss: 0.0097 - accuracy: 0.9887\n",
      "Epoch 12/25\n",
      "241/241 [==============================] - 11s 45ms/step - loss: 0.0084 - accuracy: 0.9908\n",
      "Epoch 13/25\n",
      "241/241 [==============================] - 11s 44ms/step - loss: 0.0074 - accuracy: 0.9914\n",
      "Epoch 14/25\n",
      "241/241 [==============================] - 11s 45ms/step - loss: 0.0061 - accuracy: 0.9934\n",
      "Epoch 15/25\n",
      "241/241 [==============================] - 11s 44ms/step - loss: 0.0056 - accuracy: 0.9940\n",
      "Epoch 16/25\n",
      "241/241 [==============================] - 11s 44ms/step - loss: 0.0058 - accuracy: 0.9929\n",
      "Epoch 17/25\n",
      "241/241 [==============================] - 11s 44ms/step - loss: 0.0045 - accuracy: 0.99480s - loss: 0.0046 - accu\n",
      "Epoch 18/25\n",
      "241/241 [==============================] - 11s 45ms/step - loss: 0.0036 - accuracy: 0.9960\n",
      "Epoch 19/25\n",
      "241/241 [==============================] - 11s 44ms/step - loss: 0.0036 - accuracy: 0.9962\n",
      "Epoch 20/25\n",
      "241/241 [==============================] - 11s 45ms/step - loss: 0.0037 - accuracy: 0.9960\n",
      "Epoch 21/25\n",
      "241/241 [==============================] - 11s 45ms/step - loss: 0.0033 - accuracy: 0.9964\n",
      "Epoch 22/25\n",
      "241/241 [==============================] - 11s 44ms/step - loss: 0.0032 - accuracy: 0.9965\n",
      "Epoch 23/25\n",
      "241/241 [==============================] - 11s 45ms/step - loss: 0.0026 - accuracy: 0.9974\n",
      "Epoch 24/25\n",
      "241/241 [==============================] - 11s 45ms/step - loss: 0.0027 - accuracy: 0.9970\n",
      "Epoch 25/25\n",
      "241/241 [==============================] - 11s 45ms/step - loss: 0.0019 - accuracy: 0.9977\n"
     ]
    },
    {
     "data": {
      "text/plain": [
       "<tensorflow.python.keras.callbacks.History at 0x23dbdc89208>"
      ]
     },
     "execution_count": 12,
     "metadata": {},
     "output_type": "execute_result"
    }
   ],
   "source": [
    "embedding_dim = 600\n",
    "\n",
    "# Definindo modelo\n",
    "bidirectional_model = tf.keras.Sequential([\n",
    "    # Input, vectorize and embedding layers\n",
    "    tf.keras.Input(shape=(1,), dtype=tf.string),\n",
    "    vectorize_layer,\n",
    "    tf.keras.layers.Embedding(len(vectorize_layer.get_vocabulary()) + 2, embedding_dim),\n",
    "    \n",
    "    # LSTM layers\n",
    "    tf.keras.layers.Dropout(.3),\n",
    "    tf.keras.layers.Bidirectional(tf.keras.layers.LSTM(256)),\n",
    "    tf.keras.layers.Dropout(.3),\n",
    "    tf.keras.layers.Dense(1, activation='sigmoid')\n",
    "])\n",
    "\n",
    "# Compilando\n",
    "bidirectional_model.compile(optimizer = \"rmsprop\", loss = \"mean_squared_error\", metrics = ['accuracy'])\n",
    "bidirectional_model.fit(x_train, y_train, epochs = 25)"
   ]
  },
  {
   "cell_type": "code",
   "execution_count": 13,
   "metadata": {},
   "outputs": [
    {
     "name": "stdout",
     "output_type": "stream",
     "text": [
      "61/61 [==============================] - 1s 9ms/step - loss: 0.0998 - accuracy: 0.8874\n",
      "Training loss:  0.1\n",
      "Training accuracy:  88.74 %\n",
      "\n",
      "Confusion matrix(tn,fp,fn,tp):  [ 363  106  111 1347] \n",
      "\n",
      "                  precision    recall  f1-score   support\n",
      "\n",
      "nao recomendaria       0.77      0.77      0.77       469\n",
      "    recomendaria       0.93      0.92      0.93      1458\n",
      "\n",
      "        accuracy                           0.89      1927\n",
      "       macro avg       0.85      0.85      0.85      1927\n",
      "    weighted avg       0.89      0.89      0.89      1927\n",
      "\n"
     ]
    }
   ],
   "source": [
    "# Avaliando modelo bidirecional\n",
    "from sklearn.metrics import classification_report, confusion_matrix\n",
    "\n",
    "loss, acc = bidirectional_model.evaluate(x = x_test, y = y_test)\n",
    "print(\"Training loss: \", round(loss, 2))\n",
    "print(\"Training accuracy: \", round(acc * 100, 2), \"%\\n\")\n",
    "\n",
    "y_pred = bidirectional_model.predict(x_test).round()\n",
    "print(\"Confusion matrix(tn,fp,fn,tp): \", confusion_matrix(y_test, y_pred).ravel(), \"\\n\")\n",
    "print(classification_report(y_test, y_pred, target_names=['nao recomendaria', 'recomendaria']))"
   ]
  },
  {
   "cell_type": "markdown",
   "metadata": {},
   "source": [
    "***Utilizando um dataset balanceado***\n",
    "\n",
    "Por fim, um último teste realizado foi a execução da rede LSTM fazendo um downsampling nos dataset original para que ele fosse balanceado. Os resultados ainda se mantiveram entre 86% ~ 88%"
   ]
  },
  {
   "cell_type": "code",
   "execution_count": 9,
   "metadata": {},
   "outputs": [
    {
     "name": "stdout",
     "output_type": "stream",
     "text": [
      "Epoch 1/40\n",
      "118/118 [==============================] - 28s 234ms/step - loss: 0.2418 - accuracy: 0.5656\n",
      "Epoch 2/40\n",
      "118/118 [==============================] - 28s 233ms/step - loss: 0.2291 - accuracy: 0.6229\n",
      "Epoch 3/40\n",
      "118/118 [==============================] - 28s 234ms/step - loss: 0.1582 - accuracy: 0.7953\n",
      "Epoch 4/40\n",
      "118/118 [==============================] - 28s 236ms/step - loss: 0.1625 - accuracy: 0.7745\n",
      "Epoch 5/40\n",
      "118/118 [==============================] - 27s 232ms/step - loss: 0.1821 - accuracy: 0.7401\n",
      "Epoch 6/40\n",
      "118/118 [==============================] - 27s 230ms/step - loss: 0.1410 - accuracy: 0.8281\n",
      "Epoch 7/40\n",
      "118/118 [==============================] - 27s 228ms/step - loss: 0.1454 - accuracy: 0.7948\n",
      "Epoch 8/40\n",
      "118/118 [==============================] - 27s 232ms/step - loss: 0.0938 - accuracy: 0.8777\n",
      "Epoch 9/40\n",
      "118/118 [==============================] - 27s 232ms/step - loss: 0.0774 - accuracy: 0.9049\n",
      "Epoch 10/40\n",
      "118/118 [==============================] - 28s 236ms/step - loss: 0.0686 - accuracy: 0.9184\n",
      "Epoch 11/40\n",
      "118/118 [==============================] - 28s 235ms/step - loss: 0.0523 - accuracy: 0.9350\n",
      "Epoch 12/40\n",
      "118/118 [==============================] - 27s 231ms/step - loss: 0.0436 - accuracy: 0.9483\n",
      "Epoch 13/40\n",
      "118/118 [==============================] - 27s 227ms/step - loss: 0.0337 - accuracy: 0.9627\n",
      "Epoch 14/40\n",
      "118/118 [==============================] - 27s 232ms/step - loss: 0.0333 - accuracy: 0.9624\n",
      "Epoch 15/40\n",
      "118/118 [==============================] - 27s 228ms/step - loss: 0.0274 - accuracy: 0.9699\n",
      "Epoch 16/40\n",
      "118/118 [==============================] - 27s 227ms/step - loss: 0.0224 - accuracy: 0.9752\n",
      "Epoch 17/40\n",
      "118/118 [==============================] - 27s 228ms/step - loss: 0.0201 - accuracy: 0.9773\n",
      "Epoch 18/40\n",
      "118/118 [==============================] - 27s 233ms/step - loss: 0.0175 - accuracy: 0.9811\n",
      "Epoch 19/40\n",
      "118/118 [==============================] - 27s 232ms/step - loss: 0.0154 - accuracy: 0.9837\n",
      "Epoch 20/40\n",
      "118/118 [==============================] - 27s 232ms/step - loss: 0.0120 - accuracy: 0.9872\n",
      "Epoch 21/40\n",
      "118/118 [==============================] - 27s 233ms/step - loss: 0.0115 - accuracy: 0.9875\n",
      "Epoch 22/40\n",
      "118/118 [==============================] - 27s 233ms/step - loss: 0.0104 - accuracy: 0.9885\n",
      "Epoch 23/40\n",
      "118/118 [==============================] - 27s 231ms/step - loss: 0.0088 - accuracy: 0.9904\n",
      "Epoch 24/40\n",
      "118/118 [==============================] - 28s 233ms/step - loss: 0.0083 - accuracy: 0.9912\n",
      "Epoch 25/40\n",
      "118/118 [==============================] - 27s 231ms/step - loss: 0.0066 - accuracy: 0.9931\n",
      "Epoch 26/40\n",
      "118/118 [==============================] - 28s 237ms/step - loss: 0.0083 - accuracy: 0.9912\n",
      "Epoch 27/40\n",
      "118/118 [==============================] - 27s 230ms/step - loss: 0.0072 - accuracy: 0.9923\n",
      "Epoch 28/40\n",
      "118/118 [==============================] - 27s 230ms/step - loss: 0.0049 - accuracy: 0.9947\n",
      "Epoch 29/40\n",
      "118/118 [==============================] - 27s 230ms/step - loss: 0.0048 - accuracy: 0.9947\n",
      "Epoch 30/40\n",
      "118/118 [==============================] - 27s 231ms/step - loss: 0.0056 - accuracy: 0.9933\n",
      "Epoch 31/40\n",
      "118/118 [==============================] - 27s 230ms/step - loss: 0.0043 - accuracy: 0.9949\n",
      "Epoch 32/40\n",
      "118/118 [==============================] - 27s 231ms/step - loss: 0.0035 - accuracy: 0.9965\n",
      "Epoch 33/40\n",
      "118/118 [==============================] - 27s 230ms/step - loss: 0.0036 - accuracy: 0.9960\n",
      "Epoch 34/40\n",
      "118/118 [==============================] - 27s 232ms/step - loss: 0.0041 - accuracy: 0.9955\n",
      "Epoch 35/40\n",
      "118/118 [==============================] - 27s 232ms/step - loss: 0.0047 - accuracy: 0.9952\n",
      "Epoch 36/40\n",
      "118/118 [==============================] - 27s 231ms/step - loss: 0.0027 - accuracy: 0.9971\n",
      "Epoch 37/40\n",
      "118/118 [==============================] - 27s 231ms/step - loss: 0.0023 - accuracy: 0.9976\n",
      "Epoch 38/40\n",
      "118/118 [==============================] - 27s 231ms/step - loss: 0.0019 - accuracy: 0.9981\n",
      "Epoch 39/40\n",
      "118/118 [==============================] - 27s 232ms/step - loss: 0.0022 - accuracy: 0.9976\n",
      "Epoch 40/40\n",
      "118/118 [==============================] - 27s 233ms/step - loss: 0.0030 - accuracy: 0.9965\n"
     ]
    },
    {
     "data": {
      "text/plain": [
       "<tensorflow.python.keras.callbacks.History at 0x216fb3175c8>"
      ]
     },
     "execution_count": 9,
     "metadata": {},
     "output_type": "execute_result"
    }
   ],
   "source": [
    "# LSTM (dados rebalanceados)\n",
    "embedding_dim = 600\n",
    "\n",
    "# Definindo modelo\n",
    "lstm_model_resampled = tf.keras.Sequential([\n",
    "    # Input, vectorize and embedding layers\n",
    "    tf.keras.Input(shape=(1,), dtype=tf.string),\n",
    "    vectorize_layer,\n",
    "    tf.keras.layers.Embedding(len(vectorize_layer.get_vocabulary()) + 2, embedding_dim),\n",
    "    \n",
    "    # LSTM layers\n",
    "    tf.keras.layers.Dropout(.1),\n",
    "    tf.keras.layers.LSTM(256),\n",
    "    tf.keras.layers.Dropout(.1),\n",
    "    tf.keras.layers.Dense(1, activation='sigmoid')\n",
    "])\n",
    "\n",
    "# Compilando\n",
    "lstm_model_resampled.compile(optimizer = \"rmsprop\", loss = \"mean_squared_error\", metrics = ['accuracy'])\n",
    "lstm_model_resampled.fit(x_train_resampled, y_train_resampled, epochs = 40)"
   ]
  },
  {
   "cell_type": "code",
   "execution_count": 11,
   "metadata": {},
   "outputs": [
    {
     "name": "stdout",
     "output_type": "stream",
     "text": [
      "61/61 [==============================] - 4s 67ms/step - loss: 0.1343 - accuracy: 0.8609\n",
      "Training loss:  0.13\n",
      "Training accuracy:  86.09 %\n",
      "\n",
      "Confusion matrix(tn,fp,fn,tp):  [ 377   86  182 1282] \n",
      "\n",
      "                  precision    recall  f1-score   support\n",
      "\n",
      "nao recomendaria       0.67      0.81      0.74       463\n",
      "    recomendaria       0.94      0.88      0.91      1464\n",
      "\n",
      "        accuracy                           0.86      1927\n",
      "       macro avg       0.81      0.84      0.82      1927\n",
      "    weighted avg       0.87      0.86      0.87      1927\n",
      "\n"
     ]
    }
   ],
   "source": [
    "# Avaliando modelo LSTM (base rebalanceada)\n",
    "from sklearn.metrics import classification_report, confusion_matrix\n",
    "\n",
    "loss, acc = lstm_model_resampled.evaluate(x = x_test, y = y_test)\n",
    "print(\"Training loss: \", round(loss, 2))\n",
    "print(\"Training accuracy: \", round(acc * 100, 2), \"%\\n\")\n",
    "\n",
    "y_pred = lstm_model_resampled.predict(x_test).round()\n",
    "print(\"Confusion matrix(tn,fp,fn,tp): \", confusion_matrix(y_test, y_pred).ravel(), \"\\n\")\n",
    "print(classification_report(y_test, y_pred, target_names=['nao recomendaria', 'recomendaria']))"
   ]
  }
 ],
 "metadata": {
  "kernelspec": {
   "display_name": "Python 3",
   "language": "python",
   "name": "python3"
  },
  "language_info": {
   "codemirror_mode": {
    "name": "ipython",
    "version": 3
   },
   "file_extension": ".py",
   "mimetype": "text/x-python",
   "name": "python",
   "nbconvert_exporter": "python",
   "pygments_lexer": "ipython3",
   "version": "3.7.9"
  }
 },
 "nbformat": 4,
 "nbformat_minor": 4
}
