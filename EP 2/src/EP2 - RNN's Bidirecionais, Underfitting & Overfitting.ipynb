{
 "cells": [
  {
   "cell_type": "markdown",
   "metadata": {},
   "source": [
    "<img src=\"https://github.com/alan-barzilay/NLPortugues/blob/master/imagens/logo_nlportugues.png?raw=true\"  style=\"height:65%\" align=\"right\">\n",
    "\n",
    "\n",
    "# EP2 - RNN's Bidirecionais, Underfitting & Overfitting\n",
    "**Nome:** Davy Alves de Souza\n",
    "\n",
    "**Numero Usp:** 11561247"
   ]
  },
  {
   "cell_type": "markdown",
   "metadata": {},
   "source": [
    "O objetivo deste exercício é aumentar a familiarização dos alunos com **redes neurais recorrentes bidirecionais**, em arquiteturas **LSTM** e **GRU** e uma aplicação em análise de sentimentos. Além disso pretendemos abordar dois problemas muito comuns em aprendizado de máquina, a saber, o problema do subajuste (*underfitting*) e do\n",
    "sobreajuste (*overfitting*) e de técnicas para evitar o problema do sobreajuste, como a utilização de uma camada\n",
    "*Dropout* durante o treinamento e a divisão do córpus em três conjuntos: dados de treinamento, dados de validação\n",
    "e dados de teste."
   ]
  },
  {
   "cell_type": "markdown",
   "metadata": {},
   "source": [
    "## Setup"
   ]
  },
  {
   "cell_type": "code",
   "execution_count": 1,
   "metadata": {},
   "outputs": [
    {
     "data": {
      "text/plain": [
       "'2.3.1'"
      ]
     },
     "execution_count": 1,
     "metadata": {},
     "output_type": "execute_result"
    }
   ],
   "source": [
    "import pandas as pd\n",
    "import numpy as np\n",
    "\n",
    "import tensorflow as tf\n",
    "\n",
    "from tensorflow import keras\n",
    "from tensorflow.keras import layers\n",
    "from tensorflow.keras import callbacks\n",
    "\n",
    "import matplotlib.pyplot as plt\n",
    "%matplotlib inline\n",
    "\n",
    "tf.__version__"
   ]
  },
  {
   "cell_type": "code",
   "execution_count": 2,
   "metadata": {},
   "outputs": [],
   "source": [
    "# constants\n",
    "max_tokens = 20000  # we will consider only the top 20k words\n",
    "output_len = 64     # truncate or pad the sequences to get this length\n",
    "batch_size = 128    # batch size\n",
    "\n",
    "\n",
    "# some datasets that can be used\n",
    "b2w_10k_dataset_path  = \"../data/b2w-10k.csv\"\n",
    "b2w_full_dataset_path = \"../data/B2W-Reviews01.csv\"\n",
    "\n",
    "\n",
    "# some word embeddings\n",
    "cbow_s50_path   = \"../data/cbow_s50.txt\"\n",
    "cbow_s100_path  = \"../data/cbow_s100.txt\"\n",
    "cbow_s300_path  = \"../data/cbow_s300.txt\"\n",
    "cbow_s600_path  = \"../data/cbow_s600.txt\"\n",
    "cbow_s1000_path = \"../data/cbow_s1000.txt\"\n",
    "\n",
    "\n",
    "# classes\n",
    "class_names = [\"Unknown\", \"Pessimo\", \"Ruim\", \"OK\", \"Bom\", \"Otimo\"]"
   ]
  },
  {
   "cell_type": "markdown",
   "metadata": {},
   "source": [
    "## Pré-processamento de Dados\n",
    "\n",
    "Vamos criar um *pipeline* que automáticamente extrai os dados de uma planilha CSV, gera os corpos de treinamento, validação e teste, cria os iteradores que vão compor os *batches* que serão alimentados na entrada do sistema, codificando as palavras de acordo com algum esquema de vetorização.\n",
    "\n",
    "Utilizaremos o córpus de avaliações da B2W e estamos interessados em apenas duas colunas: `review_text` e `overall_rating`.\n",
    "\n",
    "Passos do *pipeline*:\n",
    " - **Filtro**: Filtrar todas as linhas cujo rótulo não é um valor numérico entre 0 e 5.\n",
    " - **Partilha**: Recebe o nome do arquivo CSV contendo o *dataset* de entrada, e o nome do diretório de saída, e as proporções dos *datasets* de avaliação e de teste. A partir dos dados filtrados, altera aleatóriamente sua ordem e gera planilhas CSV de **treinamento**, **validação** e **teste** nas proporções:\n",
    "     - Treinamento :65%\n",
    "     - Validação: 10%\n",
    "     - Teste: 25%\n",
    " - **Codifica**: Utilizar um codificador de palavras para vetor de dados de *d-dimensional*."
   ]
  },
  {
   "cell_type": "code",
   "execution_count": 3,
   "metadata": {},
   "outputs": [
    {
     "name": "stdout",
     "output_type": "stream",
     "text": [
      "Found     0 samples of class 0\n",
      "Found  1918 samples of class 1\n",
      "Found   618 samples of class 2\n",
      "Found  1216 samples of class 3\n",
      "Found  2503 samples of class 4\n",
      "Found  3744 samples of class 5\n"
     ]
    },
    {
     "data": {
      "text/html": [
       "<div>\n",
       "<style scoped>\n",
       "    .dataframe tbody tr th:only-of-type {\n",
       "        vertical-align: middle;\n",
       "    }\n",
       "\n",
       "    .dataframe tbody tr th {\n",
       "        vertical-align: top;\n",
       "    }\n",
       "\n",
       "    .dataframe thead th {\n",
       "        text-align: right;\n",
       "    }\n",
       "</style>\n",
       "<table border=\"1\" class=\"dataframe\">\n",
       "  <thead>\n",
       "    <tr style=\"text-align: right;\">\n",
       "      <th></th>\n",
       "      <th>review_text</th>\n",
       "      <th>overall_rating</th>\n",
       "    </tr>\n",
       "  </thead>\n",
       "  <tbody>\n",
       "    <tr>\n",
       "      <th>0</th>\n",
       "      <td>Estou contente com a compra entrega rápida o ú...</td>\n",
       "      <td>4</td>\n",
       "    </tr>\n",
       "    <tr>\n",
       "      <th>1</th>\n",
       "      <td>Por apenas R$1994.20,eu consegui comprar esse ...</td>\n",
       "      <td>4</td>\n",
       "    </tr>\n",
       "    <tr>\n",
       "      <th>2</th>\n",
       "      <td>SUPERA EM AGILIDADE E PRATICIDADE OUTRAS PANEL...</td>\n",
       "      <td>4</td>\n",
       "    </tr>\n",
       "    <tr>\n",
       "      <th>3</th>\n",
       "      <td>MEU FILHO AMOU! PARECE DE VERDADE COM TANTOS D...</td>\n",
       "      <td>4</td>\n",
       "    </tr>\n",
       "    <tr>\n",
       "      <th>4</th>\n",
       "      <td>A entrega foi no prazo, as americanas estão de...</td>\n",
       "      <td>5</td>\n",
       "    </tr>\n",
       "  </tbody>\n",
       "</table>\n",
       "</div>"
      ],
      "text/plain": [
       "                                         review_text  overall_rating\n",
       "0  Estou contente com a compra entrega rápida o ú...               4\n",
       "1  Por apenas R$1994.20,eu consegui comprar esse ...               4\n",
       "2  SUPERA EM AGILIDADE E PRATICIDADE OUTRAS PANEL...               4\n",
       "3  MEU FILHO AMOU! PARECE DE VERDADE COM TANTOS D...               4\n",
       "4  A entrega foi no prazo, as americanas estão de...               5"
      ]
     },
     "execution_count": 3,
     "metadata": {},
     "output_type": "execute_result"
    }
   ],
   "source": [
    "# Filtra\n",
    "\n",
    "# read a CSV file into a DataFrame\n",
    "b2wCorpus = pd.read_csv(b2w_10k_dataset_path)\n",
    "\n",
    "# selecting columns\n",
    "processed_data = b2wCorpus[['review_text', 'overall_rating']]\n",
    "\n",
    "# dropping NaN values\n",
    "processed_data = processed_data.dropna()\n",
    "\n",
    "print(\"Found %5d samples of class 0\" % len(processed_data[processed_data['overall_rating'] == 0]))\n",
    "print(\"Found %5d samples of class 1\" % len(processed_data[processed_data['overall_rating'] == 1]))\n",
    "print(\"Found %5d samples of class 2\" % len(processed_data[processed_data['overall_rating'] == 2]))\n",
    "print(\"Found %5d samples of class 3\" % len(processed_data[processed_data['overall_rating'] == 3]))\n",
    "print(\"Found %5d samples of class 4\" % len(processed_data[processed_data['overall_rating'] == 4]))\n",
    "print(\"Found %5d samples of class 5\" % len(processed_data[processed_data['overall_rating'] == 5]))\n",
    "\n",
    "processed_data.head()"
   ]
  },
  {
   "cell_type": "code",
   "execution_count": 4,
   "metadata": {},
   "outputs": [
    {
     "name": "stdout",
     "output_type": "stream",
     "text": [
      "Total of samples found: 9999\n",
      "Total of training samples found: 6499 (65%)\n",
      "Total of validation samples found : 1000 (10%)\n",
      "Total of testing samples found: 2500 (25%)\n"
     ]
    }
   ],
   "source": [
    "# Partilha\n",
    "\n",
    "# Shuffle data\n",
    "processed_data = processed_data.sample(frac=1).reset_index(drop=True)\n",
    "\n",
    "# Split data\n",
    "train, validate, test = np.split(processed_data, [int(.65 * len(processed_data)), int(.75 * len(processed_data))])\n",
    "\n",
    "num_samples          = len(processed_data['review_text'])\n",
    "num_train_samples    = len(train['review_text'])\n",
    "num_validate_samples = len(validate['review_text'])\n",
    "num_test_samples     = len(test['review_text'])\n",
    "\n",
    "print(\"Total of samples found: %d\" % num_samples)\n",
    "\n",
    "print(\"Total of training samples found: %d (%d%%)\" % \n",
    "      (num_train_samples, round(num_train_samples / num_samples * 100)))\n",
    "\n",
    "print(\"Total of validation samples found : %d (%d%%)\" % \n",
    "      (num_validate_samples, round(num_validate_samples / num_samples * 100)))\n",
    "\n",
    "print(\"Total of testing samples found: %d (%d%%)\" % \n",
    "      (num_test_samples, round(num_test_samples / num_samples * 100)))\n",
    "\n",
    "# Saving CSV files of training, validation and testing datasets\n",
    "train.to_csv(r'b2w-train.csv', index = False, header=True)\n",
    "validate.to_csv(r'b2w-validate.csv', index = False, header=True)\n",
    "test.to_csv(r'b2w-test.csv', index = False, header=True)"
   ]
  },
  {
   "cell_type": "code",
   "execution_count": 5,
   "metadata": {},
   "outputs": [
    {
     "name": "stdout",
     "output_type": "stream",
     "text": [
      "Training data: \n",
      " - Class 1: 1248 samples (19%)\n",
      " - Class 2:  400 samples ( 6%)\n",
      " - Class 3:  806 samples (12%)\n",
      " - Class 4: 1625 samples (25%)\n",
      " - Class 5: 2420 samples (37%)\n",
      "\n",
      "Validation data: \n",
      " - Class 1:  198 samples (19%)\n",
      " - Class 2:   64 samples ( 6%)\n",
      " - Class 3:  123 samples (12%)\n",
      " - Class 4:  237 samples (23%)\n",
      " - Class 5:  378 samples (37%)\n"
     ]
    }
   ],
   "source": [
    "print('Training data: ')\n",
    "print(' - Class 1: %4d samples (%2d%%)' % (len(train[train['overall_rating'] == 1]), len(train[train['overall_rating'] == 1]) / len(train) * 100))\n",
    "print(' - Class 2: %4d samples (%2d%%)' % (len(train[train['overall_rating'] == 2]), len(train[train['overall_rating'] == 2]) / len(train) * 100))\n",
    "print(' - Class 3: %4d samples (%2d%%)' % (len(train[train['overall_rating'] == 3]), len(train[train['overall_rating'] == 3]) / len(train) * 100))\n",
    "print(' - Class 4: %4d samples (%2d%%)' % (len(train[train['overall_rating'] == 4]), len(train[train['overall_rating'] == 4]) / len(train) * 100))\n",
    "print(' - Class 5: %4d samples (%2d%%)\\n' % (len(train[train['overall_rating'] == 5]), len(train[train['overall_rating'] == 5]) / len(train) * 100))\n",
    "\n",
    "print('Validation data: ')\n",
    "print(' - Class 1: %4d samples (%2d%%)' % (len(validate[validate['overall_rating'] == 1]), len(validate[validate['overall_rating'] == 1]) / len(validate) * 100))\n",
    "print(' - Class 2: %4d samples (%2d%%)' % (len(validate[validate['overall_rating'] == 2]), len(validate[validate['overall_rating'] == 2]) / len(validate) * 100))\n",
    "print(' - Class 3: %4d samples (%2d%%)' % (len(validate[validate['overall_rating'] == 3]), len(validate[validate['overall_rating'] == 3]) / len(validate) * 100))\n",
    "print(' - Class 4: %4d samples (%2d%%)' % (len(validate[validate['overall_rating'] == 4]), len(validate[validate['overall_rating'] == 4]) / len(validate) * 100))\n",
    "print(' - Class 5: %4d samples (%2d%%)' % (len(validate[validate['overall_rating'] == 5]), len(validate[validate['overall_rating'] == 5]) / len(validate) * 100))"
   ]
  },
  {
   "cell_type": "code",
   "execution_count": 6,
   "metadata": {},
   "outputs": [],
   "source": [
    "# Codifica\n",
    "x_train = train['review_text']\n",
    "y_train = train['overall_rating']\n",
    "\n",
    "x_validate = validate['review_text']\n",
    "y_validate = validate['overall_rating']\n",
    "\n",
    "x_test = test['review_text']\n",
    "y_test = test['overall_rating']\n",
    "\n",
    "# vectorizing text into value array\n",
    "# top 20k words\n",
    "# trucante or pad = 200\n",
    "vectorizer = layers.experimental.preprocessing.TextVectorization(max_tokens=max_tokens, output_sequence_length=output_len)\n",
    "text_ds = tf.data.Dataset.from_tensor_slices(processed_data['review_text']).batch(batch_size)\n",
    "vectorizer.adapt(text_ds)"
   ]
  },
  {
   "cell_type": "code",
   "execution_count": 7,
   "metadata": {},
   "outputs": [
    {
     "name": "stdout",
     "output_type": "stream",
     "text": [
      "Vocabulary size: 14991\n"
     ]
    }
   ],
   "source": [
    "# Get vocabulary from vectorizer \n",
    "vocabulary = vectorizer.get_vocabulary()\n",
    "vocabulary_size = len(vocabulary)\n",
    "\n",
    "print(\"Vocabulary size: %d\" % vocabulary_size)\n",
    "\n",
    "# Create a word index\n",
    "word_index = dict(zip(vocabulary, range(vocabulary_size)))"
   ]
  },
  {
   "cell_type": "code",
   "execution_count": 8,
   "metadata": {},
   "outputs": [],
   "source": [
    "word2vec_path = \"word2vec_200k.txt\"\n",
    "\n",
    "# Pré-processa embedding\n",
    "N =  200001\n",
    "with open(cbow_s50_path, \"r\", encoding=\"utf8\") as file:\n",
    "    head = [next(file) for x in range(N)]\n",
    "\n",
    "head[0] = str(N-1)+ \" \" + \"50\"+ \"\\n\" # Conserta contagem de palavras\n",
    "with open(word2vec_path, \"w\", encoding=\"utf8\") as file:\n",
    "    for line in head:\n",
    "        file.write(line)"
   ]
  },
  {
   "cell_type": "code",
   "execution_count": 9,
   "metadata": {},
   "outputs": [
    {
     "name": "stdout",
     "output_type": "stream",
     "text": [
      "Found 200000 word vectors.\n"
     ]
    }
   ],
   "source": [
    "# Load pre-trained word embeddings\n",
    "embeddings_index = {}\n",
    "with open(word2vec_path, encoding=\"utf8\") as f:\n",
    "    for line in f:\n",
    "        word, coefs = line.split(maxsplit=1)\n",
    "        coefs = np.fromstring(coefs, \"f\", sep=\" \")\n",
    "        embeddings_index[word] = coefs\n",
    "\n",
    "print(\"Found %s word vectors.\" % len(embeddings_index))"
   ]
  },
  {
   "cell_type": "code",
   "execution_count": 10,
   "metadata": {},
   "outputs": [],
   "source": [
    "# embeddings_index[',']\n",
    "# word_index"
   ]
  },
  {
   "cell_type": "code",
   "execution_count": 11,
   "metadata": {},
   "outputs": [
    {
     "name": "stdout",
     "output_type": "stream",
     "text": [
      "Converted 10906 words (4085 misses)\n"
     ]
    }
   ],
   "source": [
    "num_tokens = vocabulary_size + 2\n",
    "embedding_dim = 50\n",
    "hits = 0\n",
    "misses = 0\n",
    "\n",
    "# Prepare embedding matrix\n",
    "embedding_matrix = np.zeros((num_tokens, embedding_dim))\n",
    "for word, i in word_index.items():\n",
    "    embedding_vector = embeddings_index.get(word)\n",
    "    if embedding_vector is not None and embedding_vector.size == embedding_dim:\n",
    "        # Words not found in embedding index will be all-zeros.\n",
    "        # This includes the representation for \"padding\" and \"OOV\"\n",
    "        embedding_matrix[i] = embedding_vector\n",
    "        hits += 1\n",
    "    else:\n",
    "        misses += 1\n",
    "\n",
    "print(\"Converted %d words (%d misses)\" % (hits, misses))"
   ]
  },
  {
   "cell_type": "code",
   "execution_count": 12,
   "metadata": {},
   "outputs": [],
   "source": [
    "# embedding_matrix[25]"
   ]
  },
  {
   "cell_type": "code",
   "execution_count": 13,
   "metadata": {},
   "outputs": [],
   "source": [
    "embedding_layer = layers.Embedding(\n",
    "    num_tokens,\n",
    "    embedding_dim,\n",
    "    embeddings_initializer=keras.initializers.Constant(embedding_matrix),\n",
    "    trainable=False\n",
    ")"
   ]
  },
  {
   "cell_type": "markdown",
   "metadata": {},
   "source": [
    "## Treinamento"
   ]
  },
  {
   "cell_type": "code",
   "execution_count": 14,
   "metadata": {},
   "outputs": [
    {
     "name": "stdout",
     "output_type": "stream",
     "text": [
      "Model: \"functional_1\"\n",
      "_________________________________________________________________\n",
      "Layer (type)                 Output Shape              Param #   \n",
      "=================================================================\n",
      "input_1 (InputLayer)         [(None, None)]            0         \n",
      "_________________________________________________________________\n",
      "embedding (Embedding)        (None, None, 50)          749650    \n",
      "_________________________________________________________________\n",
      "spatial_dropout1d (SpatialDr (None, None, 50)          0         \n",
      "_________________________________________________________________\n",
      "bidirectional (Bidirectional (None, 128)               58880     \n",
      "_________________________________________________________________\n",
      "dense (Dense)                (None, 6)                 774       \n",
      "=================================================================\n",
      "Total params: 809,304\n",
      "Trainable params: 59,654\n",
      "Non-trainable params: 749,650\n",
      "_________________________________________________________________\n"
     ]
    }
   ],
   "source": [
    "# LSTM\n",
    "# inputs = keras.Input(shape=(None,), dtype=tf.int64)\n",
    "\n",
    "# embedded_sequences = embedding_layer(inputs)\n",
    "# x = layers.SpatialDropout1D(.1)(embedded_sequences)\n",
    "# x = layers.LSTM(64)(x)\n",
    "# outputs = layers.Dense(len(class_names), activation=\"softmax\")(x)\n",
    "\n",
    "# model = keras.Model(inputs=inputs, outputs=outputs)\n",
    "\n",
    "# Bidirectional LSTM\n",
    "inputs = keras.Input(shape=(None,), dtype=tf.int64)\n",
    "\n",
    "embedded_sequences = embedding_layer(inputs)\n",
    "x = layers.SpatialDropout1D(.1)(embedded_sequences)\n",
    "# x = layers.Bidirectional(layers.LSTM(64, return_sequences=True))(x)\n",
    "# x = layers.Bidirectional(layers.LSTM(128, return_sequences=True))(x)\n",
    "x = layers.Bidirectional(layers.LSTM(64))(x)\n",
    "outputs = layers.Dense(len(class_names), activation=\"softmax\")(x)\n",
    "\n",
    "model = keras.Model(inputs=inputs, outputs=outputs)\n",
    "\n",
    "\n",
    "# model = tf.keras.Sequential()\n",
    "# model.add(Embedding(num_tokens,\n",
    "#                     embedding_dim,\n",
    "#                     embeddings_initializer=keras.initializers.Constant(embedding_matrix),\n",
    "#                     input_length=200,\n",
    "#                     trainable=True))\n",
    "# model.add(layers.SpatialDropout1D(.2))\n",
    "# model.add(layers.Bidirectional(layers.LSTM(64, return_sequences=True)))\n",
    "# model.add(layers.Bidirectional(layers.LSTM(32)))\n",
    "# model.add(layers.Dropout(.25))\n",
    "# model.add(layers.Dense(units=len(class_names), activation='softmax'))\n",
    "\n",
    "\n",
    "# int_sequences_input = keras.Input(shape=(None,), dtype=\"int64\")\n",
    "# embedded_sequences = embedding_layer(int_sequences_input)\n",
    "# x = layers.Conv1D(128, 5, activation=\"relu\")(embedded_sequences)\n",
    "# x = layers.MaxPooling1D(5)(x)\n",
    "# x = layers.Conv1D(128, 5, activation=\"relu\")(x)\n",
    "# x = layers.MaxPooling1D(5)(x)\n",
    "# x = layers.Conv1D(128, 5, activation=\"relu\")(x)\n",
    "# x = layers.GlobalMaxPooling1D()(x)\n",
    "# x = layers.Dense(128, activation=\"relu\")(x)\n",
    "# x = layers.Dropout(0.5)(x)\n",
    "# preds = layers.Dense(len(class_names), activation=\"softmax\")(x)\n",
    "# model = keras.Model(int_sequences_input, preds)\n",
    "\n",
    "\n",
    "\n",
    "# model = tf.keras.Sequential([\n",
    "#     tf.keras.Input(shape=(1,), dtype=tf.string),\n",
    "    \n",
    "#     tf.keras.layers.experimental.preprocessing.TextVectorization(standardize=\"lower_and_strip_punctuation\",\n",
    "#                                                                  split=\"whitespace\",\n",
    "#                                                                  output_mode=\"int\"),\n",
    "    \n",
    "#     tf.keras.layers.Embedding(num_tokens, 600),\n",
    "    \n",
    "#     tf.keras.layers.Dropout(.1),\n",
    "#     tf.keras.layers.LSTM(256),\n",
    "#     tf.keras.layers.Dropout(.3),\n",
    "    \n",
    "#     tf.keras.layers.Dense(len(class_names), activation='softmax')\n",
    "# ])\n",
    "\n",
    "model.summary()"
   ]
  },
  {
   "cell_type": "code",
   "execution_count": 15,
   "metadata": {},
   "outputs": [
    {
     "data": {
      "text/plain": [
       "array([[  29,    6,   17, ...,    0,    0,    0],\n",
       "       [   6,    9,   15, ...,    0,    0,    0],\n",
       "       [ 898,  380,   75, ...,    0,    0,    0],\n",
       "       ...,\n",
       "       [ 416,   72, 3020, ...,    0,    0,    0],\n",
       "       [   2,    6,   20, ...,    0,    0,    0],\n",
       "       [   6,   58,  133, ...,    0,    0,    0]], dtype=int64)"
      ]
     },
     "execution_count": 15,
     "metadata": {},
     "output_type": "execute_result"
    }
   ],
   "source": [
    "x_train_embedded = vectorizer(np.array([[s] for s in x_train])).numpy()\n",
    "y_train_embedded = np.array(y_train)\n",
    "\n",
    "x_validate_embedded = vectorizer(np.array([[s] for s in x_validate])).numpy()\n",
    "y_validate_embedded = np.array(y_validate)\n",
    "\n",
    "x_test_embedded = vectorizer(np.array([[s] for s in x_test])).numpy()\n",
    "y_test_embedded = np.array(y_test)\n",
    "\n",
    "# x_train_embedded \n",
    "# y_train_embedded\n",
    "\n",
    "# x_validate_embedded\n",
    "# y_validate_embedded\n",
    "x_train_embedded"
   ]
  },
  {
   "cell_type": "code",
   "execution_count": 16,
   "metadata": {},
   "outputs": [
    {
     "name": "stdout",
     "output_type": "stream",
     "text": [
      "Epoch 1/15\n",
      "51/51 [==============================] - 1s 26ms/step - loss: 1.5108 - accuracy: 0.3744 - val_loss: 1.3851 - val_accuracy: 0.4210\n",
      "Epoch 2/15\n",
      "51/51 [==============================] - 0s 9ms/step - loss: 1.2897 - accuracy: 0.4616 - val_loss: 1.2726 - val_accuracy: 0.4770\n",
      "Epoch 3/15\n",
      "51/51 [==============================] - 0s 9ms/step - loss: 1.2360 - accuracy: 0.4835 - val_loss: 1.2395 - val_accuracy: 0.4940\n",
      "Epoch 4/15\n",
      "51/51 [==============================] - 0s 9ms/step - loss: 1.2075 - accuracy: 0.4899 - val_loss: 1.2141 - val_accuracy: 0.5050\n",
      "Epoch 5/15\n",
      "51/51 [==============================] - 1s 10ms/step - loss: 1.1891 - accuracy: 0.4932 - val_loss: 1.2058 - val_accuracy: 0.5030\n",
      "Epoch 6/15\n",
      "51/51 [==============================] - 0s 9ms/step - loss: 1.1720 - accuracy: 0.5042 - val_loss: 1.1905 - val_accuracy: 0.5120\n",
      "Epoch 7/15\n",
      "51/51 [==============================] - 0s 9ms/step - loss: 1.1601 - accuracy: 0.5092 - val_loss: 1.1790 - val_accuracy: 0.5240\n",
      "Epoch 8/15\n",
      "51/51 [==============================] - 0s 9ms/step - loss: 1.1374 - accuracy: 0.5156 - val_loss: 1.1712 - val_accuracy: 0.5200\n",
      "Epoch 9/15\n",
      "51/51 [==============================] - 0s 9ms/step - loss: 1.1315 - accuracy: 0.5184 - val_loss: 1.1601 - val_accuracy: 0.5250\n",
      "Epoch 10/15\n",
      "51/51 [==============================] - 0s 9ms/step - loss: 1.1245 - accuracy: 0.5184 - val_loss: 1.1529 - val_accuracy: 0.5330\n",
      "Epoch 11/15\n",
      "51/51 [==============================] - 0s 9ms/step - loss: 1.1069 - accuracy: 0.5312 - val_loss: 1.1434 - val_accuracy: 0.5270\n",
      "Epoch 12/15\n",
      "51/51 [==============================] - 1s 10ms/step - loss: 1.0949 - accuracy: 0.5305 - val_loss: 1.1326 - val_accuracy: 0.5360\n",
      "Epoch 13/15\n",
      "51/51 [==============================] - 0s 9ms/step - loss: 1.0830 - accuracy: 0.5395 - val_loss: 1.1388 - val_accuracy: 0.5320\n",
      "Epoch 14/15\n",
      "51/51 [==============================] - 0s 9ms/step - loss: 1.0722 - accuracy: 0.5450 - val_loss: 1.1335 - val_accuracy: 0.5150\n",
      "Epoch 15/15\n",
      "51/51 [==============================] - 0s 9ms/step - loss: 1.0665 - accuracy: 0.5418 - val_loss: 1.1386 - val_accuracy: 0.5190\n"
     ]
    }
   ],
   "source": [
    "checkpoint_filepath = 'model.epoch{epoch:02d}-loss{val_loss:.2f}.hdf5'\n",
    "model_checkpoint_callback = callbacks.ModelCheckpoint(filepath=checkpoint_filepath,\n",
    "                                                      save_weights_only=True,\n",
    "                                                      monitor='val_loss',\n",
    "                                                      mode='min',\n",
    "                                                      save_best_only=True)\n",
    "\n",
    "\n",
    "model.compile(optimizer=\"adam\", loss=\"sparse_categorical_crossentropy\", metrics=[\"accuracy\"])\n",
    "\n",
    "history = model.fit(x_train_embedded, \n",
    "                    y_train_embedded, \n",
    "                    batch_size=batch_size, \n",
    "                    epochs=15, \n",
    "                    validation_data=(x_validate_embedded, y_validate_embedded),\n",
    "                    callbacks=[model_checkpoint_callback]\n",
    "                   )\n",
    "\n",
    "# model.fit(x_train, \n",
    "#           y_train, \n",
    "#           batch_size=batch_size, \n",
    "#           epochs=10, \n",
    "#           validation_data=(x_validate, y_validate)\n",
    "#          )"
   ]
  },
  {
   "cell_type": "code",
   "execution_count": 17,
   "metadata": {},
   "outputs": [
    {
     "data": {
      "image/png": "[encoded data removed]",
      "text/plain": [
       "<Figure size 432x288 with 1 Axes>"
      ]
     },
     "metadata": {
      "needs_background": "light"
     },
     "output_type": "display_data"
    },
    {
     "data": {
      "image/png": "[encoded data removed]",
      "text/plain": [
       "<Figure size 432x288 with 1 Axes>"
      ]
     },
     "metadata": {
      "needs_background": "light"
     },
     "output_type": "display_data"
    }
   ],
   "source": [
    "plt.plot(history.history['accuracy'])\n",
    "plt.plot(history.history['val_accuracy'])\n",
    "plt.title('model accuracy')\n",
    "plt.ylabel('accuracy')\n",
    "plt.xlabel('epoch')\n",
    "plt.legend(['train', 'validation'], loc='upper left')\n",
    "plt.show()\n",
    "\n",
    "plt.plot(history.history['loss'])\n",
    "plt.plot(history.history['val_loss'])\n",
    "plt.title('model loss')\n",
    "plt.ylabel('loss')\n",
    "plt.xlabel('epoch')\n",
    "plt.legend(['train', 'validation'], loc='upper left')\n",
    "plt.show()"
   ]
  },
  {
   "cell_type": "markdown",
   "metadata": {},
   "source": [
    "## Validação"
   ]
  },
  {
   "cell_type": "code",
   "execution_count": 25,
   "metadata": {},
   "outputs": [
    {
     "name": "stdout",
     "output_type": "stream",
     "text": [
      "[1.3850998878479004, 1.2726017236709595, 1.2395497560501099, 1.2141228914260864, 1.2057626247406006, 1.1905333995819092, 1.178985834121704, 1.1711783409118652, 1.1600979566574097, 1.152916431427002, 1.1434457302093506, 1.1326472759246826, 1.138780951499939, 1.1335033178329468, 1.1385849714279175]\n",
      "1.1326472759246826\n",
      "11\n"
     ]
    }
   ],
   "source": [
    "import json\n",
    "\n",
    "print(history.history['val_loss'])\n",
    "\n",
    "print(min(history.history['val_loss']))\n",
    "print(history.history['val_loss'].index(min(history.history['val_loss'])))\n",
    "\n",
    "\n",
    "with open('history.txt', \"w\", encoding=\"utf8\") as file:\n",
    "    file.write(json.dumps(history.history, indent=4))\n",
    "\n"
   ]
  },
  {
   "cell_type": "markdown",
   "metadata": {},
   "source": [
    "## Teste"
   ]
  },
  {
   "cell_type": "code",
   "execution_count": 19,
   "metadata": {},
   "outputs": [
    {
     "name": "stdout",
     "output_type": "stream",
     "text": [
      "79/79 [==============================] - 0s 3ms/step - loss: 1.1188 - accuracy: 0.5212\n"
     ]
    },
    {
     "data": {
      "text/plain": [
       "[1.1187989711761475, 0.5212000012397766]"
      ]
     },
     "execution_count": 19,
     "metadata": {},
     "output_type": "execute_result"
    }
   ],
   "source": [
    "model.evaluate(x=x_test_embedded,y=y_test_embedded)"
   ]
  },
  {
   "cell_type": "code",
   "execution_count": 20,
   "metadata": {},
   "outputs": [],
   "source": [
    "# model.load_weights('model.epoch02-loss0.91.hdf5')"
   ]
  },
  {
   "cell_type": "code",
   "execution_count": 21,
   "metadata": {},
   "outputs": [],
   "source": [
    "# model.evaluate(x=x_test_embedded,y=y_test_embedded)"
   ]
  }
 ],
 "metadata": {
  "kernelspec": {
   "display_name": "Python 3",
   "language": "python",
   "name": "python3"
  },
  "language_info": {
   "codemirror_mode": {
    "name": "ipython",
    "version": 3
   },
   "file_extension": ".py",
   "mimetype": "text/x-python",
   "name": "python",
   "nbconvert_exporter": "python",
   "pygments_lexer": "ipython3",
   "version": "3.7.9"
  }
 },
 "nbformat": 4,
 "nbformat_minor": 4
}
